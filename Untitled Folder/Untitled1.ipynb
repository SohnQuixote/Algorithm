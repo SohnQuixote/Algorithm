{
 "cells": [
  {
   "cell_type": "code",
   "execution_count": 1,
   "id": "6d4efaff",
   "metadata": {},
   "outputs": [],
   "source": [
    "import string\n",
    "\n",
    "tmp = string.digits+string.ascii_lowercase\n",
    "def convert(num, base) :\n",
    "    q, r = divmod(num, base)\n",
    "    if q == 0 :\n",
    "        return tmp[r] \n",
    "    else :\n",
    "        return convert(q, base) + tmp[r]"
   ]
  },
  {
   "cell_type": "code",
   "execution_count": 4,
   "id": "a20946ee",
   "metadata": {},
   "outputs": [],
   "source": [
    "number = int(convert(10,2))"
   ]
  },
  {
   "cell_type": "code",
   "execution_count": 5,
   "id": "550a65ea",
   "metadata": {},
   "outputs": [
    {
     "data": {
      "text/plain": [
       "1010"
      ]
     },
     "execution_count": 5,
     "metadata": {},
     "output_type": "execute_result"
    }
   ],
   "source": [
    "number"
   ]
  },
  {
   "cell_type": "code",
   "execution_count": null,
   "id": "757488ef",
   "metadata": {},
   "outputs": [],
   "source": []
  }
 ],
 "metadata": {
  "kernelspec": {
   "display_name": "Python 3",
   "language": "python",
   "name": "python3"
  },
  "language_info": {
   "codemirror_mode": {
    "name": "ipython",
    "version": 3
   },
   "file_extension": ".py",
   "mimetype": "text/x-python",
   "name": "python",
   "nbconvert_exporter": "python",
   "pygments_lexer": "ipython3",
   "version": "3.8.8"
  }
 },
 "nbformat": 4,
 "nbformat_minor": 5
}
