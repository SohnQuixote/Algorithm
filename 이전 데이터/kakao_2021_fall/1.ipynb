{
 "cells": [
  {
   "cell_type": "code",
   "execution_count": 20,
   "source": [
    "def solution(id_list, report, k):\r\n",
    "    answer = []\r\n",
    "    id_length = len(id_list)\r\n",
    "    id_dictionary = {i : id_list[i] for i in range(id_length)}\r\n",
    "    reverse_id_dict = dict(map(reversed , id_dictionary.items()))\r\n",
    "    id_dictionary = reverse_id_dict\r\n",
    "    oneDreported = []\r\n",
    "    for i in range(id_length):\r\n",
    "        oneDreported.append(0)\r\n",
    "        answer.append(0)\r\n",
    "    twoDreported = [[0 for col in range(id_length)] for row in range(id_length)]\r\n",
    "    for i in range (0, len(report)):\r\n",
    "        temp_reported = report[i].split()\r\n",
    "        reporting_number = id_dictionary[temp_reported[0]]\r\n",
    "        reported_number = id_dictionary[temp_reported[1]]\r\n",
    "        if (twoDreported[reporting_number][reported_number] == 0):\r\n",
    "            twoDreported[reporting_number][reported_number] = 1\r\n",
    "            oneDreported[reported_number]+=1\r\n",
    "    for j in range(0,id_length):\r\n",
    "        for l in range(0,id_length):\r\n",
    "            if(twoDreported[j][l] == 1 and oneDreported[l] >= k):\r\n",
    "                answer[j]+=1\r\n",
    "    return answer\r\n",
    "#id_list = input().split()\r\n",
    "#id_length = len(id_list)\r\n",
    "#id_dictionary = {i : id_list[i] for i in range(id_length)}\r\n",
    "#report = input().split()\r\n",
    "\r\n",
    "#2Dreported = [[0 for col in range(id_length)] for row in range(id_length)]\r\n",
    "#for i in range(report):\r\n",
    "    \r\n",
    "#k = int(input())\r\n",
    "\r\n",
    "#result = solution(id_list,report,k)"
   ],
   "outputs": [],
   "metadata": {}
  },
  {
   "cell_type": "code",
   "execution_count": 21,
   "source": [
    "id_list = [\"muzi\", \"frodo\", \"apeach\", \"neo\"]\r\n",
    "report = [\"muzi frodo\",\"apeach frodo\",\"frodo neo\",\"muzi neo\",\"apeach muzi\"]\r\n",
    "k = 2\r\n",
    "result = solution(id_list , report ,k)"
   ],
   "outputs": [],
   "metadata": {}
  },
  {
   "cell_type": "code",
   "execution_count": 22,
   "source": [
    "result"
   ],
   "outputs": [
    {
     "output_type": "execute_result",
     "data": {
      "text/plain": [
       "[0, 0, 0, 0]"
      ]
     },
     "metadata": {},
     "execution_count": 22
    }
   ],
   "metadata": {}
  },
  {
   "cell_type": "code",
   "execution_count": 17,
   "source": [
    "id_dictionary"
   ],
   "outputs": [
    {
     "output_type": "execute_result",
     "data": {
      "text/plain": [
       "{0: 'muzi', 1: 'frodo', 2: 'apeach', 3: 'neo'}"
      ]
     },
     "metadata": {},
     "execution_count": 17
    }
   ],
   "metadata": {}
  },
  {
   "cell_type": "code",
   "execution_count": 18,
   "source": [
    "reverse_id_dict = dict(map(reversed , id_dictionary.items()))"
   ],
   "outputs": [],
   "metadata": {}
  },
  {
   "cell_type": "code",
   "execution_count": 19,
   "source": [
    "reverse_id_dict"
   ],
   "outputs": [
    {
     "output_type": "execute_result",
     "data": {
      "text/plain": [
       "{'muzi': 0, 'frodo': 1, 'apeach': 2, 'neo': 3}"
      ]
     },
     "metadata": {},
     "execution_count": 19
    }
   ],
   "metadata": {}
  },
  {
   "cell_type": "code",
   "execution_count": 28,
   "source": [
    "answer = []\n",
    "oneDreported = []\n",
    "id_dictionary = reverse_id_dict\n",
    "for i in range(id_length):\n",
    "    oneDreported.append(0)\n",
    "    answer.append(0)\n",
    "twoDreported = [[0 for col in range(id_length)] for row in range(id_length)]\n",
    "for i in range (0, len(report)):\n",
    "    temp_reported = report[i].split()\n",
    "    reporting_number = id_dictionary[temp_reported[0]]\n",
    "    reported_number = id_dictionary[temp_reported[1]]\n",
    "    if (twoDreported[reporting_number][reported_number] == 0):\n",
    "        twoDreported[reporting_number][reported_number] = 1\n",
    "        oneDreported[reported_number]+=1\n",
    "for j in range(0,id_length):\n",
    "    for l in range(0,id_length):\n",
    "        if(twoDreported[j][l] == 1 and oneDreported[l] >= k):\n",
    "            answer[j]+=1"
   ],
   "outputs": [],
   "metadata": {}
  },
  {
   "cell_type": "code",
   "execution_count": 29,
   "source": [
    "oneDreported"
   ],
   "outputs": [
    {
     "output_type": "execute_result",
     "data": {
      "text/plain": [
       "[1, 2, 0, 2]"
      ]
     },
     "metadata": {},
     "execution_count": 29
    }
   ],
   "metadata": {}
  },
  {
   "cell_type": "code",
   "execution_count": 30,
   "source": [
    "twoDreported"
   ],
   "outputs": [
    {
     "output_type": "execute_result",
     "data": {
      "text/plain": [
       "[[0, 1, 0, 1], [0, 0, 0, 1], [1, 1, 0, 0], [0, 0, 0, 0]]"
      ]
     },
     "metadata": {},
     "execution_count": 30
    }
   ],
   "metadata": {}
  },
  {
   "cell_type": "code",
   "execution_count": 31,
   "source": [
    "answer"
   ],
   "outputs": [
    {
     "output_type": "execute_result",
     "data": {
      "text/plain": [
       "[2, 1, 1, 0]"
      ]
     },
     "metadata": {},
     "execution_count": 31
    }
   ],
   "metadata": {}
  },
  {
   "cell_type": "code",
   "execution_count": null,
   "source": [],
   "outputs": [],
   "metadata": {}
  }
 ],
 "metadata": {
  "kernelspec": {
   "display_name": "Python 3",
   "language": "python",
   "name": "python3"
  },
  "language_info": {
   "codemirror_mode": {
    "name": "ipython",
    "version": 3
   },
   "file_extension": ".py",
   "mimetype": "text/x-python",
   "name": "python",
   "nbconvert_exporter": "python",
   "pygments_lexer": "ipython3",
   "version": "3.8.8"
  }
 },
 "nbformat": 4,
 "nbformat_minor": 5
}