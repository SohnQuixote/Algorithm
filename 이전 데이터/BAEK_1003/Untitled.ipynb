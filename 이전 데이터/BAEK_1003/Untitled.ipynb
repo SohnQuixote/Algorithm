{
 "cells": [
  {
   "cell_type": "markdown",
   "id": "1fe43e5c",
   "metadata": {},
   "source": [
    "# 피보나치 함수\n",
    "## 0이 출력되는 횟수와, 1이 출력되는 횟수를 공백으로 구분해서 출력\n",
    "\n",
    "# 시간초과\n"
   ]
  },
  {
   "cell_type": "code",
   "execution_count": 39,
   "id": "aaab7a2b",
   "metadata": {},
   "outputs": [],
   "source": [
    "def fibo(a):\n",
    "    result = []\n",
    "    result.append(a)\n",
    "    zero = 0\n",
    "    one = 0\n",
    "    i = 0\n",
    "    if (a !=1 and a!=0):\n",
    "        result.append(a-1)\n",
    "        result.append(a-2)\n",
    "        i=1 \n",
    "    while (result[i] != 0 and result[i] !=1) and i+1 != len(result):\n",
    "        if(result[i] != 1 and result[i]!=0):\n",
    "            result.append(result[i] - 1)\n",
    "            result.append(result[i] - 2)\n",
    "        i+=1\n",
    "    for i in result:\n",
    "        if(i == 0):\n",
    "            zero +=1\n",
    "        elif (i == 1):\n",
    "            one +=1\n",
    "    \n",
    "    return zero, one"
   ]
  },
  {
   "cell_type": "code",
   "execution_count": 40,
   "id": "de05ec26",
   "metadata": {},
   "outputs": [
    {
     "name": "stdout",
     "output_type": "stream",
     "text": [
      "3\n"
     ]
    }
   ],
   "source": [
    "T = int(input())"
   ]
  },
  {
   "cell_type": "code",
   "execution_count": 41,
   "id": "73ade4f6",
   "metadata": {},
   "outputs": [
    {
     "name": "stdout",
     "output_type": "stream",
     "text": [
      "0\n",
      "1\n",
      "3\n"
     ]
    }
   ],
   "source": [
    "a = []\n",
    "for i in range(T):\n",
    "    x = int(input())\n",
    "    a.append(fibo(x))"
   ]
  },
  {
   "cell_type": "code",
   "execution_count": 48,
   "id": "58bf853c",
   "metadata": {},
   "outputs": [
    {
     "name": "stdout",
     "output_type": "stream",
     "text": [
      "1 0\n",
      "0 1\n",
      "1 2\n"
     ]
    }
   ],
   "source": [
    "for i in range(0, len(a)):\n",
    "    print(a[i][0], a[i][1])"
   ]
  },
  {
   "cell_type": "code",
   "execution_count": 4,
   "id": "69e66fe7",
   "metadata": {},
   "outputs": [
    {
     "data": {
      "text/plain": [
       "'\\nint fibonacci(int n) {\\n    if (n == 0) {\\n        printf(\"0\");\\n        return 0;\\n    } else if (n == 1) {\\n        printf(\"1\");\\n        return 1;\\n    } else {\\n        return fibonacci(n‐1) + fibonacci(n‐2);\\n    }\\n}\\n'"
      ]
     },
     "execution_count": 4,
     "metadata": {},
     "output_type": "execute_result"
    }
   ],
   "source": [
    "'''\n",
    "int fibonacci(int n) {\n",
    "    if (n == 0) {\n",
    "        printf(\"0\");\n",
    "        return 0;\n",
    "    } else if (n == 1) {\n",
    "        printf(\"1\");\n",
    "        return 1;\n",
    "    } else {\n",
    "        return fibonacci(n‐1) + fibonacci(n‐2);\n",
    "    }\n",
    "}\n",
    "'''"
   ]
  },
  {
   "cell_type": "code",
   "execution_count": 8,
   "id": "d6e23170",
   "metadata": {},
   "outputs": [],
   "source": []
  },
  {
   "cell_type": "code",
   "execution_count": null,
   "id": "6753d547",
   "metadata": {},
   "outputs": [],
   "source": []
  }
 ],
 "metadata": {
  "kernelspec": {
   "display_name": "Python 3",
   "language": "python",
   "name": "python3"
  },
  "language_info": {
   "codemirror_mode": {
    "name": "ipython",
    "version": 3
   },
   "file_extension": ".py",
   "mimetype": "text/x-python",
   "name": "python",
   "nbconvert_exporter": "python",
   "pygments_lexer": "ipython3",
   "version": "3.8.8"
  }
 },
 "nbformat": 4,
 "nbformat_minor": 5
}
