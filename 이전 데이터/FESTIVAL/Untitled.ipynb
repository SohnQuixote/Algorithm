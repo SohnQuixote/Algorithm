{
 "cells": [
  {
   "cell_type": "markdown",
   "id": "45d4843d",
   "metadata": {},
   "source": [
    "# FESTIVAL\n",
    "# 입력 C(테스트 케이스) N,L\n",
    "# N일간의 공연비용\n",
    "# 출력 연속된 L의 최소 비용 "
   ]
  },
  {
   "cell_type": "markdown",
   "id": "04d24a7c",
   "metadata": {},
   "source": [
    "# 문제 분석\n",
    "# 윈도우를 적용시키는 거니 브루트 포스밖에 없어 보임"
   ]
  },
  {
   "cell_type": "code",
   "execution_count": 43,
   "id": "53238ff1",
   "metadata": {},
   "outputs": [],
   "source": [
    "#다 더해놓고 빼는 방식이 효율적으로 보임 #계속 더하는것은 비효율적임\n",
    "def algo(A , L , N , ff, lf):\n",
    "    summ = sum(A)\n",
    "    maxx= 0\n",
    "    leng = 0\n",
    "    if(ff[N-L-1] >= lf[N-L-1]):\n",
    "        maxx = ff[0]\n",
    "        leng = N-L\n",
    "    else:\n",
    "        maxx = lf[N-L-1]\n",
    "        leng = N-L\n",
    "    for i in range(0,N-L-1):\n",
    "        for j in range(0,N-L-1):\n",
    "            if(i+j+2 <= (N-L)):\n",
    "                if(((summ-maxx)/(N- leng)) >  ((summ- (ff[i]+lf[j]))/(N-(i+j+2))) ):\n",
    "                    maxx = ff[i] + lf[j]\n",
    "                    leng = i+j+2\n",
    "    print(summ-maxx)\n",
    "    print(N-leng)\n",
    "    return (summ-maxx)/(N- leng)"
   ]
  },
  {
   "cell_type": "code",
   "execution_count": 45,
   "id": "6f834483",
   "metadata": {},
   "outputs": [
    {
     "name": "stdout",
     "output_type": "stream",
     "text": [
      "1\n",
      "6 3\n",
      "1 2 3 1 2 3\n",
      "6\n",
      "3\n",
      "2.0\n"
     ]
    }
   ],
   "source": [
    "C = int(input())\n",
    "\n",
    "result = []\n",
    "for i in range(0, C):\n",
    "    NL = list(map(int, input().strip().split()))\n",
    "    N = NL[0]\n",
    "    L = NL[1]\n",
    "    m = 0\n",
    "    n = 0\n",
    "    first_filter =[]\n",
    "    last_filter = []\n",
    "    A = list(map(int, input().strip().split()))\n",
    "    for j in range(0, N-L):\n",
    "        temp = A[j]\n",
    "        if(m == 0):\n",
    "            first_filter.append(temp)            \n",
    "        else :\n",
    "            first_filter.append(temp+first_filter[m-1])\n",
    "        m+=1\n",
    "    for k in range(N-1 , N-L-1 , -1):\n",
    "        temp = A[k]\n",
    "        if(n == 0):\n",
    "            last_filter.append(temp)\n",
    "        else:\n",
    "            last_filter.append(temp+last_filter[n-1])\n",
    "        n+=1\n",
    "    result.append(algo(A,L ,N , first_filter , last_filter))\n",
    "\n",
    "for i in result:\n",
    "    print(i)"
   ]
  },
  {
   "cell_type": "code",
   "execution_count": 26,
   "id": "b2660f57",
   "metadata": {},
   "outputs": [
    {
     "data": {
      "text/plain": [
       "[3, 5, 6]"
      ]
     },
     "execution_count": 26,
     "metadata": {},
     "output_type": "execute_result"
    }
   ],
   "source": [
    "last_filter"
   ]
  },
  {
   "cell_type": "code",
   "execution_count": 24,
   "id": "5cdd6ed4",
   "metadata": {},
   "outputs": [
    {
     "name": "stdout",
     "output_type": "stream",
     "text": [
      "5\n",
      "4\n",
      "3\n"
     ]
    }
   ],
   "source": [
    "for k in range(N-1 , N-L-1 , -1):\n",
    "    print(k)"
   ]
  },
  {
   "cell_type": "code",
   "execution_count": 27,
   "id": "5980bfff",
   "metadata": {},
   "outputs": [
    {
     "data": {
      "text/plain": [
       "3"
      ]
     },
     "execution_count": 27,
     "metadata": {},
     "output_type": "execute_result"
    }
   ],
   "source": [
    "N-L"
   ]
  },
  {
   "cell_type": "code",
   "execution_count": null,
   "id": "3ab7509b",
   "metadata": {},
   "outputs": [],
   "source": []
  },
  {
   "cell_type": "code",
   "execution_count": null,
   "id": "367b6280",
   "metadata": {},
   "outputs": [],
   "source": []
  },
  {
   "cell_type": "code",
   "execution_count": null,
   "id": "32df0bc2",
   "metadata": {},
   "outputs": [],
   "source": []
  },
  {
   "cell_type": "code",
   "execution_count": null,
   "id": "7f8c724f",
   "metadata": {},
   "outputs": [],
   "source": []
  }
 ],
 "metadata": {
  "kernelspec": {
   "display_name": "Python 3",
   "language": "python",
   "name": "python3"
  },
  "language_info": {
   "codemirror_mode": {
    "name": "ipython",
    "version": 3
   },
   "file_extension": ".py",
   "mimetype": "text/x-python",
   "name": "python",
   "nbconvert_exporter": "python",
   "pygments_lexer": "ipython3",
   "version": "3.8.8"
  }
 },
 "nbformat": 4,
 "nbformat_minor": 5
}
