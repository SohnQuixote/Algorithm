{
 "cells": [
  {
   "cell_type": "markdown",
   "id": "45d4843d",
   "metadata": {},
   "source": [
    "# FESTIVAL\n",
    "# 입력 C(테스트 케이스) N,L\n",
    "# N일간의 공연비용\n",
    "# 출력 연속된 L의 최소 비용 "
   ]
  },
  {
   "cell_type": "markdown",
   "id": "04d24a7c",
   "metadata": {},
   "source": [
    "# 문제 분석\n",
    "# 윈도우를 적용시키는 거니 브루트 포스밖에 없어 보임"
   ]
  },
  {
   "cell_type": "code",
   "execution_count": null,
   "id": "53238ff1",
   "metadata": {},
   "outputs": [],
   "source": [
    "#다 더해놓고 빼는 방식이 효율적으로 보임 #계속 더하는것은 비효율적임\n",
    "def algo(A , L , N , ff, lf):\n",
    "    return (sum(A) 0"
   ]
  },
  {
   "cell_type": "code",
   "execution_count": null,
   "id": "6f834483",
   "metadata": {},
   "outputs": [],
   "source": [
    "C = int(input())\n",
    "\n",
    "result = []\n",
    "for i in range(0, C):\n",
    "    A = []\n",
    "    N = int(input())\n",
    "    L = int(input())\n",
    "    m = 0\n",
    "    n = 0\n",
    "    first_filter =[]\n",
    "    last_filter = []\n",
    "    for j in range(0, N):\n",
    "        temp = int(input())\n",
    "        A.append(temp)\n",
    "        if(j<N-(L)):\n",
    "            if(m == 0):\n",
    "                first_filter.append(temp)\n",
    "            \n",
    "            else :\n",
    "                first_filter.append(temp+first_filter[m-1])\n",
    "            m+=1    \n",
    "        elif (j>=N-(L+1)):\n",
    "            if(n == 0):\n",
    "                last_filter.append(temp)\n",
    "            else:\n",
    "                last_filter.append(temp+last_filter[m-1])\n",
    "    result.append(algo(A,L ,N , max(first_filter) , max(last_filter)))\n",
    "\n",
    "for i in result:\n",
    "    print(i)"
   ]
  },
  {
   "cell_type": "code",
   "execution_count": null,
   "id": "b2660f57",
   "metadata": {},
   "outputs": [],
   "source": []
  }
 ],
 "metadata": {
  "kernelspec": {
   "display_name": "Python 3",
   "language": "python",
   "name": "python3"
  },
  "language_info": {
   "codemirror_mode": {
    "name": "ipython",
    "version": 3
   },
   "file_extension": ".py",
   "mimetype": "text/x-python",
   "name": "python",
   "nbconvert_exporter": "python",
   "pygments_lexer": "ipython3",
   "version": "3.8.8"
  }
 },
 "nbformat": 4,
 "nbformat_minor": 5
}
