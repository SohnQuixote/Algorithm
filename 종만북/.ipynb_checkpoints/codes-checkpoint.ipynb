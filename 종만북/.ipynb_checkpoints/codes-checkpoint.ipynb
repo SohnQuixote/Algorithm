{
 "cells": [
  {
   "cell_type": "markdown",
   "id": "853b6ce3",
   "metadata": {},
   "source": [
    "# Moving Average"
   ]
  },
  {
   "cell_type": "code",
   "execution_count": 1,
   "id": "9ae7b149",
   "metadata": {},
   "outputs": [],
   "source": [
    "def moving_avr_1(A,M):\n",
    "    ret = []\n",
    "    N = len(A)\n",
    "    for i in range(M-1,N):\n",
    "        partial_sum = 0\n",
    "        for j in range(0,M):\n",
    "            partial_sum += A[i-j]\n",
    "        ret.append(partial_sum/M)\n",
    "    return ret\n",
    "# 매번 구힘"
   ]
  },
  {
   "cell_type": "code",
   "execution_count": 2,
   "id": "03b99c56",
   "metadata": {},
   "outputs": [],
   "source": [
    "def moving_avr_2(A,M):\n",
    "    ret = []\n",
    "    N = len(A)\n",
    "    partial_sum = 0\n",
    "    for i in range(0,M-1):\n",
    "        partial_sum += A[i]\n",
    "    for j in range(M-1,N):\n",
    "        partial_sum+=A[j]\n",
    "        ret.append(partial_sum/M)\n",
    "        partial_sum -= A[j-M+1]\n",
    "    return ret\n",
    "# 겹치는 값은 구하지 않음"
   ]
  },
  {
   "cell_type": "markdown",
   "id": "38083253",
   "metadata": {},
   "source": [
    "# Select Menu"
   ]
  },
  {
   "cell_type": "code",
   "execution_count": 3,
   "id": "09173f58",
   "metadata": {},
   "outputs": [],
   "source": [
    "INF = 987654321\n",
    "def canEverybodyEat(menu):\n",
    "    return True\n",
    "M=5#요리할 수 있는 음식의 수\n",
    "def selectMenu(menu,food):\n",
    "    if(food==M):\n",
    "        if (canEverybodyEat(menu)):\n",
    "            return len(menu)\n",
    "        return INF\n",
    "    ret = selectMenu(menu,food+1)\n",
    "    menu.append(food)\n",
    "    ret = min(ret,selectMenu(menu,food+1))\n",
    "    menu.pop()\n",
    "    return ret\n",
    "#지수시간"
   ]
  },
  {
   "cell_type": "markdown",
   "id": "eef84563",
   "metadata": {},
   "source": [
    "# Factor"
   ]
  },
  {
   "cell_type": "code",
   "execution_count": 4,
   "id": "bef7813b",
   "metadata": {},
   "outputs": [],
   "source": [
    "def factor(n):\n",
    "    if(n==1):\n",
    "        return 1\n",
    "    ret = []\n",
    "    div = 2\n",
    "    while (n>1):\n",
    "        while(n%div == 0):\n",
    "            n/=div\n",
    "            ret.append(div)\n",
    "        div +=1\n",
    "    return ret"
   ]
  },
  {
   "cell_type": "markdown",
   "id": "82e1c3fa",
   "metadata": {},
   "source": [
    "# Sort"
   ]
  },
  {
   "cell_type": "code",
   "execution_count": 5,
   "id": "aa21f8c4",
   "metadata": {},
   "outputs": [],
   "source": [
    "def selectionSort(A):\n",
    "    for i in range(0,len(A)):\n",
    "        minIndex = i\n",
    "        for j in range(i+1,len(A)):\n",
    "            if(A[minIndex]>A[j]):\n",
    "                minIndex = j\n",
    "        A[i],A[minIndex] = A[minIndex],A[i]"
   ]
  },
  {
   "cell_type": "code",
   "execution_count": 6,
   "id": "26ebbdb7",
   "metadata": {},
   "outputs": [],
   "source": [
    "def insertionSort(A):\n",
    "    for i in range (0,len(A)):\n",
    "        j = i\n",
    "        while (j>0 and A[j-1]>A[j]):\n",
    "            A[j-1],A[j] = A[j],A[j-1]\n",
    "            --j"
   ]
  },
  {
   "cell_type": "markdown",
   "id": "d7808be2",
   "metadata": {},
   "source": [
    "# Max Sum"
   ]
  },
  {
   "cell_type": "code",
   "execution_count": 7,
   "id": "59e0ae09",
   "metadata": {},
   "outputs": [],
   "source": [
    "def inefficientMaxSum(A):\n",
    "    N = len(A)\n",
    "    ret = -54321\n",
    "    \n",
    "    for i in range(0,N):\n",
    "        for j in range(i,N):\n",
    "            summ = 0\n",
    "            for k in range (i,j):\n",
    "                summ+= A[k]\n",
    "            ret = max(ret, summ)\n",
    "    return ret"
   ]
  },
  {
   "cell_type": "code",
   "execution_count": 8,
   "id": "84afe7b5",
   "metadata": {},
   "outputs": [],
   "source": [
    "def betterMaxSum(A):\n",
    "    N = len(A)\n",
    "    ret = -54321\n",
    "    \n",
    "    for i in range(0,N):\n",
    "        summ = 0\n",
    "        for j in range(i,N):\n",
    "            summ+= A[k]\n",
    "            ret = max(ret, summ)\n",
    "    return ret"
   ]
  },
  {
   "cell_type": "code",
   "execution_count": 9,
   "id": "80b935b1",
   "metadata": {},
   "outputs": [],
   "source": [
    "def fastMaxSum(A,lo,hi):\n",
    "    if(lo==hi):\n",
    "        return A[lo]\n",
    "    mid = int((lo+hi)/2)\n",
    "    left = -54321\n",
    "    right = -54321\n",
    "    summ =0\n",
    "    for i in range(mid,lo-1,-1):\n",
    "        summ+= A[i]\n",
    "        left = max(left ,summ)\n",
    "    summ = 0\n",
    "    for i in range(mid+1 ,hi+1):\n",
    "        suumm+= A[j]\n",
    "        right = max(right , summ)\n",
    "    single = max(fastMaxSum(A,lo,mid),fastMaxsum(A,mid+1,hi))\n",
    "    return max(left+right , single)"
   ]
  },
  {
   "cell_type": "code",
   "execution_count": 10,
   "id": "fd179b9c",
   "metadata": {},
   "outputs": [],
   "source": [
    "def fastestMaxSum(A):\n",
    "    N = len(A)\n",
    "    ret = -54321\n",
    "    psum = 0\n",
    "    for i in range(0,N):\n",
    "        psum = max(psum,0) + A[i]\n",
    "        ret = max(psum,ret)\n",
    "    return ret"
   ]
  },
  {
   "cell_type": "markdown",
   "id": "74ae742c",
   "metadata": {},
   "source": [
    "# binsearch"
   ]
  },
  {
   "cell_type": "code",
   "execution_count": 11,
   "id": "6176020a",
   "metadata": {},
   "outputs": [],
   "source": [
    "#A는 오름차순을 정렬\n",
    "#A[i-1] < x <= A[i] 인 i반환\n",
    "def binsearch(A,x):\n",
    "    n = len(A)\n",
    "    lo = -1\n",
    "    hi = n\n",
    "    #불변식 lo<hi\n",
    "    #불변식 A[lo] < x  <= A[hi]\n",
    "    while(lo+1 < hi):\n",
    "        mid = (lo+hi)//2\n",
    "        if(A[mid]<x):\n",
    "            lo = mid\n",
    "        else:\n",
    "            hi = mid\n",
    "    #불변식은 여기서도 성립\n",
    "    return hi\n"
   ]
  },
  {
   "cell_type": "markdown",
   "id": "a0c9e256",
   "metadata": {},
   "source": [
    "# recursion and executive search"
   ]
  },
  {
   "cell_type": "code",
   "execution_count": 12,
   "id": "ee5aff28",
   "metadata": {},
   "outputs": [],
   "source": [
    "def executive_sum(n):\n",
    "    ret =0\n",
    "    for i in range(1,n+1):\n",
    "        ret+=i\n",
    "    return ret\n",
    "#executive search\n",
    "def recursive_sum(n):\n",
    "    if(n==1): #base case\n",
    "        return 1\n",
    "    return n+ recursive_sum(n-1)\n",
    "def pick(n,picked,topick):\n",
    "    if(topick==0):\n",
    "        print(picked)\n",
    "        return\n",
    "    if(len(picked) == 0):\n",
    "        smallest = 0\n",
    "    else:\n",
    "        smallest = picked[-1]+1\n",
    "    for i in range(smallest , n):\n",
    "        picked.append(i)\n",
    "        pick(n,picked,topick-1)\n",
    "        picked.pop()"
   ]
  },
  {
   "cell_type": "markdown",
   "id": "6634be19",
   "metadata": {},
   "source": [
    "# BOGGLE\n",
    "## 5*5 게임판에서 글자를 찾는 문제\n",
    "## 입력 - (y,x) 시작 위치 , word 찾고자 하는 단어\n",
    "## 출력 - word의 존재여부"
   ]
  },
  {
   "cell_type": "code",
   "execution_count": 13,
   "id": "36542097",
   "metadata": {},
   "outputs": [],
   "source": [
    "Alphamap = [['U','R','L','P','M'],['X','P','R','E','T'],['G','I','A','E','T'],['X','T','N','Z','Y'],['X','O','Q','R','S']]"
   ]
  },
  {
   "cell_type": "code",
   "execution_count": 14,
   "id": "9dab891b",
   "metadata": {},
   "outputs": [
    {
     "data": {
      "text/plain": [
       "[['U', 'R', 'L', 'P', 'M'],\n",
       " ['X', 'P', 'R', 'E', 'T'],\n",
       " ['G', 'I', 'A', 'E', 'T'],\n",
       " ['X', 'T', 'N', 'Z', 'Y'],\n",
       " ['X', 'O', 'Q', 'R', 'S']]"
      ]
     },
     "execution_count": 14,
     "metadata": {},
     "output_type": "execute_result"
    }
   ],
   "source": [
    "Alphamap"
   ]
  },
  {
   "cell_type": "code",
   "execution_count": 15,
   "id": "e7e884f4",
   "metadata": {},
   "outputs": [],
   "source": [
    "dy = [-1,-1,-1,0,0,1,1,1]\n",
    "dx = [-1,0,1,-1,1,-1,0,1]\n",
    "def hasWord(y,x,word):\n",
    "    if(((0<=y and y<5) and (0<=x and x<5)) == False):\n",
    "        return False\n",
    "    if(Alphamap[y][x] != word[0]):\n",
    "        return False\n",
    "    if(len(word) == 1):\n",
    "        return True\n",
    "    for i in range(0,8):\n",
    "        nexty = y+dy[i]\n",
    "        nextx = x+dx[i]\n",
    "        if(hasWord(nexty,nexty,word[1:])):\n",
    "            return True\n",
    "    return False\n",
    "#원하는 대로 동작은 안하나 로직은 이해함"
   ]
  },
  {
   "cell_type": "markdown",
   "id": "bf68bd94",
   "metadata": {},
   "source": [
    "# PICNIC\n",
    "### 각 학생들의 쌍에 대해 서로 친구인지 여부가 주어질때 학생들을 짝지을 수 있는 방법의 수 계산"
   ]
  },
  {
   "cell_type": "code",
   "execution_count": 16,
   "id": "5a9dac7c",
   "metadata": {},
   "outputs": [],
   "source": [
    "friends_map = [[0]*10 for _ in range(10)]\n",
    "result = []\n",
    "global n "
   ]
  },
  {
   "cell_type": "code",
   "execution_count": 17,
   "id": "7ebc86ee",
   "metadata": {},
   "outputs": [],
   "source": [
    "#알고리즘 흐름\n",
    "#0부터 n까지 하나를 기준으로 비어있고 친구이면 재귀함수 호출\n",
    "#마지막까지갔을 경우 1을 더함\n",
    "#중간에 아니면 안 더함\n",
    "def countParings(friends):\n",
    "    global n\n",
    "    result = 0\n",
    "    firstFree = -1\n",
    "    for i in range(0,n):\n",
    "        if(friends[i] == 0):\n",
    "            firstFree = i\n",
    "            break\n",
    "    if(firstFree == -1):\n",
    "        return 1\n",
    "    for i in range(firstFree+1 , n):\n",
    "        if(friends[i] == 0 and friends_map[firstFree][i] == 1):\n",
    "            friends[i] = 1\n",
    "            friends[firstFree]= 1\n",
    "            result += countParings(friends)\n",
    "            friends[i] = 0\n",
    "            friends[firstFree] = 0\n",
    "    return result\n",
    "#답의 수에 비례하는 실행시간\n",
    "#완전 탐색의 경우 답의수를 계산해봐야함"
   ]
  },
  {
   "cell_type": "code",
   "execution_count": 18,
   "id": "51abb48b",
   "metadata": {},
   "outputs": [
    {
     "data": {
      "text/plain": [
       "'C = int(input())\\nfor i in range (0,C):\\n    global n\\n    n = int(input())\\n    m = int(input())\\n    friends = [0 for i in range(0,10)]\\n    for j in range(0,m):\\n        temp_1 = int(input())\\n        temp_2 = int(input())\\n        a= [temp_1,temp_2]\\n        a.sort()\\n        friends_map[a[0]][a[1]] = 1\\n        #작은 수의 숫자가 언제나 첫번째\\n    result.append(countParings(friends))\\n    friends_map = [[0]*10 for _ in range(10)]\\n    #다시 초기화\\nfor i in range(0,C):\\n    print(\"result:\")\\n    print(result[i])'"
      ]
     },
     "execution_count": 18,
     "metadata": {},
     "output_type": "execute_result"
    }
   ],
   "source": [
    "'''C = int(input())\n",
    "for i in range (0,C):\n",
    "    global n\n",
    "    n = int(input())\n",
    "    m = int(input())\n",
    "    friends = [0 for i in range(0,10)]\n",
    "    for j in range(0,m):\n",
    "        temp_1 = int(input())\n",
    "        temp_2 = int(input())\n",
    "        a= [temp_1,temp_2]\n",
    "        a.sort()\n",
    "        friends_map[a[0]][a[1]] = 1\n",
    "        #작은 수의 숫자가 언제나 첫번째\n",
    "    result.append(countParings(friends))\n",
    "    friends_map = [[0]*10 for _ in range(10)]\n",
    "    #다시 초기화\n",
    "for i in range(0,C):\n",
    "    print(\"result:\")\n",
    "    print(result[i])'''"
   ]
  },
  {
   "cell_type": "markdown",
   "id": "eb6ffc52",
   "metadata": {},
   "source": [
    "# BOARDCOVER\n",
    "\n",
    "### H * W 게임판 3칸짜리 L자 모양의 블록으로 덮기"
   ]
  },
  {
   "cell_type": "code",
   "execution_count": 19,
   "id": "57c57d0a",
   "metadata": {},
   "outputs": [],
   "source": [
    "Test1 = [[1,0,0,0,0,0,1],[1,0,0,0,0,0,1],[1,1,0,0,0,1,1]]\n",
    "Test2 = [[1,0,0,0,0,0,1],[1,0,0,0,0,0,1],[1,1,0,0,1,1,1]]\n",
    "Test3 = [[1,1,1,1,1,1,1,1,1,1],[1,0,0,0,0,0,0,0,0,1],[1,0,0,0,0,0,0,0,0,1],[1,0,0,0,0,0,0,0,0,1],[1,0,0,0,0,0,0,0,0,1],[1,0,0,0,0,0,0,0,0,1],[1,0,0,0,0,0,0,0,0,1],[1,1,1,1,1,1,1,1,1,1]]"
   ]
  },
  {
   "cell_type": "code",
   "execution_count": 20,
   "id": "e8360a1f",
   "metadata": {},
   "outputs": [],
   "source": [
    "Block_Direction = [[-1,0,0,1],[0,-1,1,0],[0,1,1,0],[0,-1,-1,0]]"
   ]
  },
  {
   "cell_type": "code",
   "execution_count": 21,
   "id": "4f7f6d72",
   "metadata": {},
   "outputs": [],
   "source": [
    "def match(Board_Table,Direction_Index,i,j):\n",
    "    if(Board_Table[i+Block_Direction[Direction_Index][0]][j+Block_Direction[Direction_Index][1]] == 0 and Board_Table[i+Block_Direction[Direction_Index][2]][j+Block_Direction[Direction_Index][3]] == 0 and Board_Table[i][j] == 0):\n",
    "        return True\n",
    "    return False\n",
    "def if_good(Board):\n",
    "    zero_count = 0\n",
    "    for i in Board:\n",
    "        for j in i:\n",
    "            if(j == 0):\n",
    "                zero_count+=1\n",
    "    if(zero_count%3 == 0 ):\n",
    "        return True\n",
    "    return False\n",
    "def if_fin(Board):\n",
    "    zero_count = 0\n",
    "    for i in Board:\n",
    "        for j in i:\n",
    "            if(j == 0):\n",
    "                zero_count+=1\n",
    "    if(zero_count == 0 ):\n",
    "        return True\n",
    "    return False\n",
    "def find_cover(Board):\n",
    "    ret = 0\n",
    "    if(if_fin(Board)):\n",
    "        return 1\n",
    "    for i in range(len(Board)):\n",
    "        for j in range(len(Board[i])):\n",
    "            for k in range(0,4):\n",
    "                if((i>=1 and i<= len(Board)-2) and(j>=1 and j<=len(Board[i])-2) ):\n",
    "                    if(match(Board,k,i,j)):\n",
    "                        Board[i][j] = 1\n",
    "                        Board[i+Block_Direction[k][0]][j+Block_Direction[k][1]] =1\n",
    "                        Board[i+Block_Direction[k][2]][j+Block_Direction[k][3]] =1\n",
    "                        ret+= find_cover(Board)\n",
    "                        Board[i][j] = 0\n",
    "                        Board[i+Block_Direction[k][0]][j+Block_Direction[k][1]] =0\n",
    "                        Board[i+Block_Direction[k][2]][j+Block_Direction[k][3]] =0\n",
    "    return ret\n",
    "# 풀이 :\n",
    "# 가장 위 가장 왼쪽에 있는 칸을 채운다고 가정했기에 L자 블록 방향이 달라야함\n",
    "# 알고리즘은 거의 동일"
   ]
  }
 ],
 "metadata": {
  "kernelspec": {
   "display_name": "Python 3",
   "language": "python",
   "name": "python3"
  },
  "language_info": {
   "codemirror_mode": {
    "name": "ipython",
    "version": 3
   },
   "file_extension": ".py",
   "mimetype": "text/x-python",
   "name": "python",
   "nbconvert_exporter": "python",
   "pygments_lexer": "ipython3",
   "version": "3.8.8"
  }
 },
 "nbformat": 4,
 "nbformat_minor": 5
}
