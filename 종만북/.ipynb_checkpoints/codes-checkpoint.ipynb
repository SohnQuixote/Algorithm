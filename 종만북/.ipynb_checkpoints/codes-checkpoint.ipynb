{
 "cells": [
  {
   "cell_type": "markdown",
   "id": "853b6ce3",
   "metadata": {},
   "source": [
    "# Moving Average"
   ]
  },
  {
   "cell_type": "code",
   "execution_count": 1,
   "id": "9ae7b149",
   "metadata": {},
   "outputs": [],
   "source": [
    "def moving_avr_1(A,M):\n",
    "    ret = []\n",
    "    N = len(A)\n",
    "    for i in range(M-1,N):\n",
    "        partial_sum = 0\n",
    "        for j in range(0,M):\n",
    "            partial_sum += A[i-j]\n",
    "        ret.append(partial_sum/M)\n",
    "    return ret\n",
    "# 매번 구힘"
   ]
  },
  {
   "cell_type": "code",
   "execution_count": 2,
   "id": "03b99c56",
   "metadata": {},
   "outputs": [],
   "source": [
    "def moving_avr_2(A,M):\n",
    "    ret = []\n",
    "    N = len(A)\n",
    "    partial_sum = 0\n",
    "    for i in range(0,M-1):\n",
    "        partial_sum += A[i]\n",
    "    for j in range(M-1,N):\n",
    "        partial_sum+=A[j]\n",
    "        ret.append(partial_sum/M)\n",
    "        partial_sum -= A[j-M+1]\n",
    "    return ret\n",
    "# 겹치는 값은 구하지 않음"
   ]
  },
  {
   "cell_type": "code",
   "execution_count": null,
   "id": "c9e13c87",
   "metadata": {},
   "outputs": [],
   "source": []
  }
 ],
 "metadata": {
  "kernelspec": {
   "display_name": "Python 3",
   "language": "python",
   "name": "python3"
  },
  "language_info": {
   "codemirror_mode": {
    "name": "ipython",
    "version": 3
   },
   "file_extension": ".py",
   "mimetype": "text/x-python",
   "name": "python",
   "nbconvert_exporter": "python",
   "pygments_lexer": "ipython3",
   "version": "3.8.8"
  }
 },
 "nbformat": 4,
 "nbformat_minor": 5
}
