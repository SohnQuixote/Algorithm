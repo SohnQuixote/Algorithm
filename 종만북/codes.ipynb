{
 "cells": [
  {
   "cell_type": "markdown",
   "id": "853b6ce3",
   "metadata": {},
   "source": [
    "# Moving Average"
   ]
  },
  {
   "cell_type": "code",
   "execution_count": 1,
   "id": "9ae7b149",
   "metadata": {},
   "outputs": [],
   "source": [
    "def moving_avr_1(A,M):\n",
    "    ret = []\n",
    "    N = len(A)\n",
    "    for i in range(M-1,N):\n",
    "        partial_sum = 0\n",
    "        for j in range(0,M):\n",
    "            partial_sum += A[i-j]\n",
    "        ret.append(partial_sum/M)\n",
    "    return ret\n",
    "# 매번 구힘"
   ]
  },
  {
   "cell_type": "code",
   "execution_count": 2,
   "id": "03b99c56",
   "metadata": {},
   "outputs": [],
   "source": [
    "def moving_avr_2(A,M):\n",
    "    ret = []\n",
    "    N = len(A)\n",
    "    partial_sum = 0\n",
    "    for i in range(0,M-1):\n",
    "        partial_sum += A[i]\n",
    "    for j in range(M-1,N):\n",
    "        partial_sum+=A[j]\n",
    "        ret.append(partial_sum/M)\n",
    "        partial_sum -= A[j-M+1]\n",
    "    return ret\n",
    "# 겹치는 값은 구하지 않음"
   ]
  },
  {
   "cell_type": "markdown",
   "id": "38083253",
   "metadata": {},
   "source": [
    "# Select Menu"
   ]
  },
  {
   "cell_type": "code",
   "execution_count": null,
   "id": "09173f58",
   "metadata": {},
   "outputs": [],
   "source": [
    "INF = 987654321\n",
    "def canEverybodyEat(menu):\n",
    "    return True\n",
    "M=5#요리할 수 있는 음식의 수\n",
    "def selectMenu(menu,food):\n",
    "    if(food==M):\n",
    "        if (canEverybodyEat(menu)):\n",
    "            return len(menu)\n",
    "        return INF\n",
    "    ret = selectMenu(menu,food+1)\n",
    "    menu.append(food)\n",
    "    ret = min(ret,selectMenu(menu,food+1))\n",
    "    menu.pop()\n",
    "    return ret\n",
    "#지수시간"
   ]
  },
  {
   "cell_type": "markdown",
   "id": "eef84563",
   "metadata": {},
   "source": [
    "# Factor"
   ]
  },
  {
   "cell_type": "code",
   "execution_count": null,
   "id": "bef7813b",
   "metadata": {},
   "outputs": [],
   "source": [
    "def factor(n):\n",
    "    if(n==1):\n",
    "        return 1\n",
    "    ret = []\n",
    "    div = 2\n",
    "    while (n>1):\n",
    "        while(n%div == 0):\n",
    "            n/=div\n",
    "            ret.append(div)\n",
    "        div +=1\n",
    "    return ret"
   ]
  },
  {
   "cell_type": "markdown",
   "id": "82e1c3fa",
   "metadata": {},
   "source": [
    "# Sort"
   ]
  },
  {
   "cell_type": "code",
   "execution_count": 1,
   "id": "aa21f8c4",
   "metadata": {},
   "outputs": [],
   "source": [
    "def selectionSort(A):\n",
    "    for i in range(0,len(A)):\n",
    "        minIndex = i\n",
    "        for j in range(i+1,len(A)):\n",
    "            if(A[minIndex]>A[j]):\n",
    "                minIndex = j\n",
    "        A[i],A[minIndex] = A[minIndex],A[i]"
   ]
  },
  {
   "cell_type": "code",
   "execution_count": 2,
   "id": "26ebbdb7",
   "metadata": {},
   "outputs": [],
   "source": [
    "def insertionSort(A):\n",
    "    for i in range (0,len(A)):\n",
    "        j = i\n",
    "        while (j>0 and A[j-1]>A[j]):\n",
    "            A[j-1],A[j] = A[j],A[j-1]\n",
    "            --j"
   ]
  },
  {
   "cell_type": "markdown",
   "id": "d7808be2",
   "metadata": {},
   "source": [
    "# Max Sum"
   ]
  },
  {
   "cell_type": "code",
   "execution_count": 3,
   "id": "59e0ae09",
   "metadata": {},
   "outputs": [],
   "source": [
    "def inefficientMaxSum(A):\n",
    "    N = len(A)\n",
    "    ret = -54321\n",
    "    \n",
    "    for i in range(0,N):\n",
    "        for j in range(i,N):\n",
    "            summ = 0\n",
    "            for k in range (i,j):\n",
    "                summ+= A[k]\n",
    "            ret = max(ret, summ)\n",
    "    return ret"
   ]
  },
  {
   "cell_type": "code",
   "execution_count": 4,
   "id": "84afe7b5",
   "metadata": {},
   "outputs": [],
   "source": [
    "def betterMaxSum(A):\n",
    "    N = len(A)\n",
    "    ret = -54321\n",
    "    \n",
    "    for i in range(0,N):\n",
    "        summ = 0\n",
    "        for j in range(i,N):\n",
    "            summ+= A[k]\n",
    "            ret = max(ret, summ)\n",
    "    return ret"
   ]
  },
  {
   "cell_type": "code",
   "execution_count": 5,
   "id": "80b935b1",
   "metadata": {},
   "outputs": [],
   "source": [
    "def fastMaxSum(A,lo,hi):\n",
    "    if(lo==hi):\n",
    "        return A[lo]\n",
    "    mid = int((lo+hi)/2)\n",
    "    left = -54321\n",
    "    right = -54321\n",
    "    summ =0\n",
    "    for i in range(mid,lo-1,-1):\n",
    "        summ+= A[i]\n",
    "        left = max(left ,summ)\n",
    "    summ = 0\n",
    "    for i in range(mid+1 ,hi+1):\n",
    "        suumm+= A[j]\n",
    "        right = max(right , summ)\n",
    "    single = max(fastMaxSum(A,lo,mid),fastMaxsum(A,mid+1,hi))\n",
    "    return max(left+right , single)"
   ]
  },
  {
   "cell_type": "code",
   "execution_count": 6,
   "id": "fd179b9c",
   "metadata": {},
   "outputs": [],
   "source": [
    "def fastestMaxSum(A):\n",
    "    N = len(A)\n",
    "    ret = -54321\n",
    "    psum = 0\n",
    "    for i in range(0,N):\n",
    "        psum = max(psum,0) + A[i]\n",
    "        ret = max(psum,ret)\n",
    "    return ret"
   ]
  },
  {
   "cell_type": "code",
   "execution_count": null,
   "id": "f95a130c",
   "metadata": {},
   "outputs": [],
   "source": []
  },
  {
   "cell_type": "code",
   "execution_count": null,
   "id": "6176020a",
   "metadata": {},
   "outputs": [],
   "source": []
  },
  {
   "cell_type": "code",
   "execution_count": null,
   "id": "b2a54452",
   "metadata": {},
   "outputs": [],
   "source": []
  }
 ],
 "metadata": {
  "kernelspec": {
   "display_name": "Python 3",
   "language": "python",
   "name": "python3"
  },
  "language_info": {
   "codemirror_mode": {
    "name": "ipython",
    "version": 3
   },
   "file_extension": ".py",
   "mimetype": "text/x-python",
   "name": "python",
   "nbconvert_exporter": "python",
   "pygments_lexer": "ipython3",
   "version": "3.8.8"
  }
 },
 "nbformat": 4,
 "nbformat_minor": 5
}
