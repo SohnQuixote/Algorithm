{
 "cells": [
  {
   "cell_type": "code",
   "execution_count": 1,
   "id": "3b3128a7",
   "metadata": {},
   "outputs": [
    {
     "name": "stdout",
     "output_type": "stream",
     "text": [
      "수민 시발\n"
     ]
    }
   ],
   "source": [
    "id_list = input().split()"
   ]
  },
  {
   "cell_type": "code",
   "execution_count": 2,
   "id": "8f8496d1",
   "metadata": {},
   "outputs": [
    {
     "data": {
      "text/plain": [
       "['수민', '시발']"
      ]
     },
     "execution_count": 2,
     "metadata": {},
     "output_type": "execute_result"
    }
   ],
   "source": [
    "id_list"
   ]
  },
  {
   "cell_type": "code",
   "execution_count": 9,
   "id": "7cc879a2",
   "metadata": {},
   "outputs": [],
   "source": [
    "dictionary = {i : id_list[i] for i in range(len(id_list))}"
   ]
  },
  {
   "cell_type": "code",
   "execution_count": 10,
   "id": "79fa978b",
   "metadata": {},
   "outputs": [
    {
     "data": {
      "text/plain": [
       "{0: '수민', 1: '시발'}"
      ]
     },
     "execution_count": 10,
     "metadata": {},
     "output_type": "execute_result"
    }
   ],
   "source": [
    "dictionary"
   ]
  },
  {
   "cell_type": "code",
   "execution_count": 20,
   "id": "86824457",
   "metadata": {},
   "outputs": [],
   "source": [
    "def solution(id_list, report, k):\n",
    "    answer = []\n",
    "    id_length = len(id_list)\n",
    "    id_dictionary = {i : id_list[i] for i in range(id_length)}\n",
    "    reverse_id_dict = dict(map(reversed , id_dictionary.items()))\n",
    "    id_dictionary = reverse_id_dict\n",
    "    oneDreported = []\n",
    "    for i in range(id_length):\n",
    "        oneDreported.append(0)\n",
    "        answer.append(0)\n",
    "    twoDreported = [[0 for col in range(id_length)] for row in range(id_length)]\n",
    "    for i in range (0, len(report)):\n",
    "        temp_reported = report[i].split()\n",
    "        reporting_number = id_dictionary[temp_reported[0]]\n",
    "        reported_number = id_dictionary[temp_reported[1]]\n",
    "        if (twoDreported[reporting_number][reported_number] == 0):\n",
    "            twoDreported[reporting_number][reported_number] = 1\n",
    "            oneDreported[reported_number]+=1\n",
    "    for j in range(0,id_length):\n",
    "        for l in range(0,id_length):\n",
    "            if(twoDreported[j][l] == 1 and oneDreported[l] >= k):\n",
    "                answer[j]+=1\n",
    "    return answer\n",
    "#id_list = input().split()\n",
    "#id_length = len(id_list)\n",
    "#id_dictionary = {i : id_list[i] for i in range(id_length)}\n",
    "#report = input().split()\n",
    "\n",
    "#2Dreported = [[0 for col in range(id_length)] for row in range(id_length)]\n",
    "#for i in range(report):\n",
    "    \n",
    "#k = int(input())\n",
    "\n",
    "#result = solution(id_list,report,k)"
   ]
  },
  {
   "cell_type": "code",
   "execution_count": 21,
   "id": "acd7d6e8",
   "metadata": {},
   "outputs": [],
   "source": [
    "id_list = [\"muzi\", \"frodo\", \"apeach\", \"neo\"]\n",
    "report = [\"muzi frodo\",\"apeach frodo\",\"frodo neo\",\"muzi neo\",\"apeach muzi\"]\n",
    "k = 2\n",
    "result = solution(id_list , report ,k)"
   ]
  },
  {
   "cell_type": "code",
   "execution_count": 22,
   "id": "e1d53179",
   "metadata": {},
   "outputs": [
    {
     "data": {
      "text/plain": [
       "[0, 0, 0, 0]"
      ]
     },
     "execution_count": 22,
     "metadata": {},
     "output_type": "execute_result"
    }
   ],
   "source": [
    "result"
   ]
  },
  {
   "cell_type": "code",
   "execution_count": 17,
   "id": "a4eba0ab",
   "metadata": {},
   "outputs": [
    {
     "data": {
      "text/plain": [
       "{0: 'muzi', 1: 'frodo', 2: 'apeach', 3: 'neo'}"
      ]
     },
     "execution_count": 17,
     "metadata": {},
     "output_type": "execute_result"
    }
   ],
   "source": [
    "id_dictionary"
   ]
  },
  {
   "cell_type": "code",
   "execution_count": 18,
   "id": "685bec8a",
   "metadata": {},
   "outputs": [],
   "source": [
    "reverse_id_dict = dict(map(reversed , id_dictionary.items()))"
   ]
  },
  {
   "cell_type": "code",
   "execution_count": 19,
   "id": "c9742992",
   "metadata": {},
   "outputs": [
    {
     "data": {
      "text/plain": [
       "{'muzi': 0, 'frodo': 1, 'apeach': 2, 'neo': 3}"
      ]
     },
     "execution_count": 19,
     "metadata": {},
     "output_type": "execute_result"
    }
   ],
   "source": [
    "reverse_id_dict"
   ]
  },
  {
   "cell_type": "code",
   "execution_count": 28,
   "id": "d32dad52",
   "metadata": {},
   "outputs": [],
   "source": [
    "answer = []\n",
    "oneDreported = []\n",
    "id_dictionary = reverse_id_dict\n",
    "for i in range(id_length):\n",
    "    oneDreported.append(0)\n",
    "    answer.append(0)\n",
    "twoDreported = [[0 for col in range(id_length)] for row in range(id_length)]\n",
    "for i in range (0, len(report)):\n",
    "    temp_reported = report[i].split()\n",
    "    reporting_number = id_dictionary[temp_reported[0]]\n",
    "    reported_number = id_dictionary[temp_reported[1]]\n",
    "    if (twoDreported[reporting_number][reported_number] == 0):\n",
    "        twoDreported[reporting_number][reported_number] = 1\n",
    "        oneDreported[reported_number]+=1\n",
    "for j in range(0,id_length):\n",
    "    for l in range(0,id_length):\n",
    "        if(twoDreported[j][l] == 1 and oneDreported[l] >= k):\n",
    "            answer[j]+=1"
   ]
  },
  {
   "cell_type": "code",
   "execution_count": 29,
   "id": "43106c53",
   "metadata": {},
   "outputs": [
    {
     "data": {
      "text/plain": [
       "[1, 2, 0, 2]"
      ]
     },
     "execution_count": 29,
     "metadata": {},
     "output_type": "execute_result"
    }
   ],
   "source": [
    "oneDreported"
   ]
  },
  {
   "cell_type": "code",
   "execution_count": 30,
   "id": "4d7a1d8e",
   "metadata": {},
   "outputs": [
    {
     "data": {
      "text/plain": [
       "[[0, 1, 0, 1], [0, 0, 0, 1], [1, 1, 0, 0], [0, 0, 0, 0]]"
      ]
     },
     "execution_count": 30,
     "metadata": {},
     "output_type": "execute_result"
    }
   ],
   "source": [
    "twoDreported"
   ]
  },
  {
   "cell_type": "code",
   "execution_count": 31,
   "id": "700188a3",
   "metadata": {},
   "outputs": [
    {
     "data": {
      "text/plain": [
       "[2, 1, 1, 0]"
      ]
     },
     "execution_count": 31,
     "metadata": {},
     "output_type": "execute_result"
    }
   ],
   "source": [
    "answer"
   ]
  },
  {
   "cell_type": "code",
   "execution_count": null,
   "id": "953522e1",
   "metadata": {},
   "outputs": [],
   "source": []
  }
 ],
 "metadata": {
  "kernelspec": {
   "display_name": "Python 3",
   "language": "python",
   "name": "python3"
  },
  "language_info": {
   "codemirror_mode": {
    "name": "ipython",
    "version": 3
   },
   "file_extension": ".py",
   "mimetype": "text/x-python",
   "name": "python",
   "nbconvert_exporter": "python",
   "pygments_lexer": "ipython3",
   "version": "3.8.8"
  }
 },
 "nbformat": 4,
 "nbformat_minor": 5
}
